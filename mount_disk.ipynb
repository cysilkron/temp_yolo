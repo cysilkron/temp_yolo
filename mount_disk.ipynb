{
 "cells": [
  {
   "cell_type": "code",
   "execution_count": null,
   "metadata": {},
   "outputs": [],
   "source": [
    "'''mount disk for datasets'''\n",
    "def format_disk(device_name):\n",
    "\t!sudo mkfs.ext4 -m 0 -E lazy_itable_init=0,lazy_journal_init=0,discard /dev/{device_name}\n",
    "\n",
    "def mount_disk(device_name, mount_dir):\n",
    "\t!sudo mkdir -p /mnt/disks/{mount_dir}\n",
    "\t!sudo mount -o discard,defaults /dev/{device_name} /mnt/disks/{mount_dir}\n",
    "\t!sudo chmod a+w /mnt/disks/{mount_dir}\n",
    "\n",
    "# mount_disk('sdb', 'lightbox_hand_eccsd-copy')\n",
    "# mount_disk('sdc', 'coco-2017-2')\n",
    "# mount_disk('sdd', 'lightbox-china-train-ds')\n",
    "# mount_disk('sde', 'merged-lightbox-val')\n",
    "mount_disk('sdf', 'datasets')\n",
    "dpath = Path('/mnt/disks/datasets')\n",
    "!sudo lsblk "
   ]
  }
 ],
 "metadata": {
  "language_info": {
   "name": "python"
  },
  "orig_nbformat": 4
 },
 "nbformat": 4,
 "nbformat_minor": 2
}

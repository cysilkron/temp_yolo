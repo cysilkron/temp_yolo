{
 "cells": [
  {
   "cell_type": "code",
   "execution_count": 1,
   "metadata": {},
   "outputs": [
    {
     "name": "stdout",
     "output_type": "stream",
     "text": [
      "NAME    MAJ:MIN RM   SIZE RO TYPE MOUNTPOINT\n",
      "loop0     7:0    0  55.5M  1 loop /snap/core18/2246\n",
      "loop1     7:1    0  55.5M  1 loop /snap/core18/2253\n",
      "loop2     7:2    0  61.9M  1 loop /snap/core20/1169\n",
      "loop3     7:3    0  61.9M  1 loop /snap/core20/1242\n",
      "loop4     7:4    0 251.7M  1 loop /snap/google-cloud-sdk/207\n",
      "loop5     7:5    0 252.7M  1 loop /snap/google-cloud-sdk/208\n",
      "loop6     7:6    0  67.2M  1 loop /snap/lxd/21803\n",
      "loop7     7:7    0  42.2M  1 loop /snap/snapd/14066\n",
      "loop8     7:8    0  32.5M  1 loop /snap/snapd/13640\n",
      "loop9     7:9    0  67.2M  1 loop /snap/lxd/21835\n",
      "sda       8:0    0    20G  0 disk \n",
      "├─sda1    8:1    0  19.9G  0 part /\n",
      "├─sda14   8:14   0     4M  0 part \n",
      "└─sda15   8:15   0   106M  0 part /boot/efi\n",
      "sdb       8:16   0    10G  0 disk \n",
      "sdc       8:32   0    30G  0 disk \n",
      "sdd       8:48   0    10G  0 disk \n",
      "sde       8:64   0    10G  0 disk \n",
      "sdf       8:80   0   100G  0 disk /mnt/disks/datasets\n"
     ]
    }
   ],
   "source": [
    "'''mount disk for datasets'''\n",
    "def format_disk(device_name):\n",
    "\t!sudo mkfs.ext4 -m 0 -E lazy_itable_init=0,lazy_journal_init=0,discard /dev/{device_name}\n",
    "\n",
    "def mount_disk(device_name, mount_dir):\n",
    "\t!sudo mkdir -p /mnt/disks/{mount_dir}\n",
    "\t!sudo mount -o discard,defaults /dev/{device_name} /mnt/disks/{mount_dir}\n",
    "\t!sudo chmod a+w /mnt/disks/{mount_dir}\n",
    "\n",
    "# mount_disk('sdb', 'lightbox_hand_eccsd-copy')\n",
    "# mount_disk('sdc', 'coco-2017-2')\n",
    "# mount_disk('sdd', 'lightbox-china-train-ds')\n",
    "# mount_disk('sde', 'merged-lightbox-val')\n",
    "mount_disk('sdf', 'datasets')\n",
    "!sudo lsblk "
   ]
  },
  {
   "cell_type": "code",
   "execution_count": null,
   "metadata": {},
   "outputs": [],
   "source": []
  }
 ],
 "metadata": {
  "interpreter": {
   "hash": "04ddf35340c1ce64f127aae7421c8cf99ef6dbb93c27b1d0248a5253fd4efee9"
  },
  "kernelspec": {
   "display_name": "Python 3.8.0 64-bit ('yolov5': conda)",
   "language": "python",
   "name": "python3"
  },
  "language_info": {
   "codemirror_mode": {
    "name": "ipython",
    "version": 3
   },
   "file_extension": ".py",
   "mimetype": "text/x-python",
   "name": "python",
   "nbconvert_exporter": "python",
   "pygments_lexer": "ipython3",
   "version": "3.8.0"
  },
  "orig_nbformat": 4
 },
 "nbformat": 4,
 "nbformat_minor": 2
}

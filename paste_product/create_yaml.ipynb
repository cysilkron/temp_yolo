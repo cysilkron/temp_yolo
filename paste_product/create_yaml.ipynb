{
 "cells": [
  {
   "cell_type": "code",
   "execution_count": 3,
   "metadata": {},
   "outputs": [],
   "source": [
    "from wandb_import import *"
   ]
  },
  {
   "cell_type": "code",
   "execution_count": 4,
   "metadata": {},
   "outputs": [],
   "source": [
    "import random\n",
    "import torch\n",
    "\n",
    "\n",
    "def set_seed(x=1234):\n",
    "    rng = np.random.default_rng(x)\n",
    "    random.seed(x)\n",
    "    np.random.seed(x)\n",
    "    torch.manual_seed(x)\n",
    "    torch.backends.cudnn.deterministic = True\n",
    "    torch.backends.cudnn.benchmark = False\n",
    "    if torch.cuda.is_available(): torch.cuda.manual_seed_all(x)\n",
    "\n",
    "    return rng\n",
    "\n",
    "RNG = set_seed()"
   ]
  },
  {
   "cell_type": "code",
   "execution_count": 5,
   "metadata": {},
   "outputs": [],
   "source": [
    "from pathlib import Path\n",
    "import sys\n",
    "\n",
    "yolo_dir = Path.home()/'new_yolov5/yolov5'\n",
    "if yolo_dir.is_dir():\n",
    "    sys.path.append(str(yolo_dir))\n",
    "\n",
    "from utils.tools.general import *"
   ]
  },
  {
   "cell_type": "code",
   "execution_count": 6,
   "metadata": {},
   "outputs": [
    {
     "data": {
      "text/plain": [
       "('/home/cheeyung/new_yolov5/yolov5/data/test_sampled_coco2017/train_images.txt',\n",
       " '/home/cheeyung/new_yolov5/yolov5/data/test_sampled_coco2017/val_images.txt',\n",
       " '/home/cheeyung/new_yolov5/yolov5/data/test_sampled_coco2017/data.yaml',\n",
       " '/home/cheeyung/new_yolov5/yolov5/data/test_sampled_coco2017/hyp_custom.yaml',\n",
       " PosixPath('/home/cheeyung/new_yolov5/yolov5/models/yolov5m.yaml'))"
      ]
     },
     "execution_count": 6,
     "metadata": {},
     "output_type": "execute_result"
    }
   ],
   "source": [
    "'''set yaml and paths'''\n",
    "# yaml_dir = yolo_dir/'data'/'test_merge_training'\n",
    "# yaml_dir = yolo_dir/'data'/'fake_coco128'\n",
    "# yaml_dir = yolo_dir/'data'/'sampled_coco2017'\n",
    "\n",
    "dpath = Path('/mnt/disks/datasets')\n",
    "yaml_dir = yolo_dir/'data'/'test_sampled_coco2017' # '''jump'''\n",
    "yaml_dir.mkdir(parents=True, exist_ok=True)\n",
    "train_txt = yaml_dir/'train_images.txt'\n",
    "val_txt = yaml_dir/'val_images.txt'\n",
    "\n",
    "\n",
    "data_yaml = (yaml_dir/'data.yaml').resolve()\n",
    "hyp_custom_yaml = (yaml_dir/'hyp_custom.yaml').resolve()\n",
    "cfg_yaml = (yolo_dir/'models/yolov5m.yaml').resolve()\n",
    "\n",
    "str(train_txt), str(val_txt), str(data_yaml), str(hyp_custom_yaml), cfg_yaml"
   ]
  },
  {
   "cell_type": "markdown",
   "metadata": {},
   "source": [
    "# create filelist txt for val"
   ]
  },
  {
   "cell_type": "markdown",
   "metadata": {},
   "source": [
    "## train"
   ]
  },
  {
   "cell_type": "code",
   "execution_count": 7,
   "metadata": {
    "scrolled": false
   },
   "outputs": [
    {
     "data": {
      "text/plain": [
       "3"
      ]
     },
     "execution_count": 7,
     "metadata": {},
     "output_type": "execute_result"
    }
   ],
   "source": [
    "# train_dpath = (yolo_dir/'datasets'/'coco128_no_label')\n",
    "# train_dpath = yolo_dir/'utils/paster/examples/fake_coco_128'\n",
    "train_dpath = dpath/'coco2017/train2017'\n",
    "train_dpath.lls()"
   ]
  },
  {
   "cell_type": "code",
   "execution_count": 8,
   "metadata": {},
   "outputs": [
    {
     "data": {
      "application/vnd.jupyter.widget-view+json": {
       "model_id": "ba987cd0e0534252b98902b6d9d6e54c",
       "version_major": 2,
       "version_minor": 0
      },
      "text/plain": [
       "  0%|          | 0/19222 [00:00<?, ?it/s]"
      ]
     },
     "metadata": {},
     "output_type": "display_data"
    },
    {
     "data": {
      "application/vnd.jupyter.widget-view+json": {
       "model_id": "d2b29fd5f1fe4bcd9bd9716e02843b5c",
       "version_major": 2,
       "version_minor": 0
      },
      "text/plain": [
       "  0%|          | 0/19222 [00:00<?, ?it/s]"
      ]
     },
     "metadata": {},
     "output_type": "display_data"
    }
   ],
   "source": [
    "\n",
    "\n",
    "# train_img_df = create_path_df((train_dpath/'images'/'train2017').ls())\n",
    "# train_lbl_df = create_path_df((train_dpath/'labels'/'train2017').ls())\n",
    "train_img_df = create_path_df((train_dpath/'images').ls())\n",
    "train_lbl_df = create_path_df((train_dpath/'labels').ls())\n",
    "\n",
    "train_img_df = train_img_df[train_img_df['is_file']]\n",
    "train_lbl_df = train_lbl_df[train_lbl_df['is_file']]\n",
    "train_img_and_lbl_df, columns_to_show = join_img_and_lbl_df(train_img_df, train_lbl_df)\n",
    "\n",
    "# train_img_and_lbl_df.head()\n",
    "sampled_train_df = train_img_and_lbl_df.sample(120, random_state=RNG.bit_generator)\n",
    "train_img_paths = sampled_train_df['file_path-img'].values\n",
    "fu.f_writelines(train_img_paths, train_txt)"
   ]
  },
  {
   "cell_type": "markdown",
   "metadata": {},
   "source": [
    "## val"
   ]
  },
  {
   "cell_type": "code",
   "execution_count": 10,
   "metadata": {},
   "outputs": [
    {
     "data": {
      "application/vnd.jupyter.widget-view+json": {
       "model_id": "4b1bff226b1b46b39f09fe36c4aeb590",
       "version_major": 2,
       "version_minor": 0
      },
      "text/plain": [
       "  0%|          | 0/40670 [00:00<?, ?it/s]"
      ]
     },
     "metadata": {},
     "output_type": "display_data"
    },
    {
     "data": {
      "application/vnd.jupyter.widget-view+json": {
       "model_id": "f9ed4984d0784f95919106e33fb0e3f8",
       "version_major": 2,
       "version_minor": 0
      },
      "text/plain": [
       "  0%|          | 0/5298 [00:00<?, ?it/s]"
      ]
     },
     "metadata": {},
     "output_type": "display_data"
    }
   ],
   "source": [
    "# val_dpath = Path('/mnt/disks/lightbox_china_merged-val/data')\n",
    "# val_dpath = train_dpath\n",
    "# val_dpath = Path('/mnt/disks/coco-2017-2/coco2017/test2017')\n",
    "val_dpath = (dpath/'coco2017'/'test2017')\n",
    "\n",
    "val_img_df = create_path_df((val_dpath/'images').ls())\n",
    "val_lbl_df = create_path_df((val_dpath/'labels').ls())\n",
    "\n",
    "val_img_df = val_img_df[val_img_df['is_file']]\n",
    "val_lbl_df = val_lbl_df[val_lbl_df['is_file']]\n",
    "val_img_and_lbl_df, columns_to_show = join_img_and_lbl_df(val_img_df, val_lbl_df)\n",
    "\n",
    "sampled_val_df = val_img_and_lbl_df.sample(40, random_state=RNG.bit_generator)\n",
    "val_img_paths = sampled_val_df['file_path-img'].values\n",
    "fu.f_writelines(val_img_paths, val_txt)"
   ]
  },
  {
   "cell_type": "markdown",
   "metadata": {},
   "source": [
    "# create yaml"
   ]
  },
  {
   "cell_type": "code",
   "execution_count": 11,
   "metadata": {},
   "outputs": [],
   "source": [
    "'''remove labels cache'''\n",
    "\n",
    "for lbl_cache in yaml_dir.ls('*.cache'):\n",
    "    print(lbl_cache)\n",
    "    lbl_cache.unlink()"
   ]
  },
  {
   "cell_type": "code",
   "execution_count": 12,
   "metadata": {},
   "outputs": [
    {
     "name": "stdout",
     "output_type": "stream",
     "text": [
      "yaml_dir:  /home/cheeyung/new_yolov5/yolov5/data/test_sampled_coco2017\n",
      "train_txt:  ('/home/cheeyung/new_yolov5/yolov5/data/test_sampled_coco2017/train_images.txt', True)\n",
      "val_txt:  ('/home/cheeyung/new_yolov5/yolov5/data/test_sampled_coco2017/val_images.txt', True)\n"
     ]
    }
   ],
   "source": [
    "print(f\"yaml_dir:  {yaml_dir}\")\n",
    "print(f\"train_txt:  {str(train_txt), train_txt.is_file()}\")\n",
    "print(f\"val_txt:  {str(val_txt),  val_txt.is_file()}\")"
   ]
  },
  {
   "cell_type": "code",
   "execution_count": 13,
   "metadata": {},
   "outputs": [],
   "source": [
    "import utils.tools.file as fu\n",
    "from types import SimpleNamespace\n",
    "\n",
    "def create_data_yaml(dest_file, train_img_path, val_img_path, cls_names: List[str], exist_ok=False):\n",
    "    dest_file = Path(dest_file)\n",
    "\n",
    "    if dest_file.is_file() and not exist_ok:\n",
    "        raise FileExistsError()\n",
    "\n",
    "    dest_file.parent.mkdir(parents=True, exist_ok=True)\n",
    "    \n",
    "    train_img_path = Path(train_img_path).resolve()\n",
    "    val_img_path = Path(val_img_path).resolve()\n",
    "\n",
    "    if not train_img_path.exists():\n",
    "        raise FileNotFoundError(train_img_path)\n",
    "\n",
    "    if not val_img_path.exists():\n",
    "        raise FileNotFoundError(val_img_path)\n",
    "\n",
    "\n",
    "    fu.f_writelines(\n",
    "    [\n",
    "        f\"train: {str(train_img_path)}\",\n",
    "        f\"val: {str(val_img_path)}\",\n",
    "        \" \",\n",
    "        f\"nc: {len(cls_names)}\",\n",
    "        f\"names: {cls_names}\",\n",
    "    ], dest_file)\n",
    "\n",
    "def load_data_yaml(yaml_path):\n",
    "    yaml_dict = fu.load_yaml(str(yaml_path))\n",
    "    return SimpleNamespace(**yaml_dict)"
   ]
  },
  {
   "cell_type": "code",
   "execution_count": 14,
   "metadata": {},
   "outputs": [
    {
     "data": {
      "text/plain": [
       "namespace(train='/home/cheeyung/new_yolov5/yolov5/data/test_sampled_coco2017/train_images.txt',\n",
       "          val='/home/cheeyung/new_yolov5/yolov5/data/test_sampled_coco2017/val_images.txt',\n",
       "          nc=14,\n",
       "          names=['wangzai_milk',\n",
       "                 'wangwang_coco_vanilla',\n",
       "                 'wangwang_coco_orange',\n",
       "                 'vitamilk',\n",
       "                 'lixing_yogurt_strawberry',\n",
       "                 'kangshifu_green_tea',\n",
       "                 'tongyi_milktea',\n",
       "                 'kangshifu_beefNoodle',\n",
       "                 'wanglaoji',\n",
       "                 'sprite_200',\n",
       "                 'pocky_coco',\n",
       "                 'lixing_yogurt_kiwi',\n",
       "                 'jiaduobao_550ml',\n",
       "                 'kangshifu_peach_drink'])"
      ]
     },
     "execution_count": 14,
     "metadata": {},
     "output_type": "execute_result"
    }
   ],
   "source": [
    "cnames = ['wangzai_milk',\n",
    " 'wangwang_coco_vanilla',\n",
    " 'wangwang_coco_orange',\n",
    " 'vitamilk',\n",
    " 'lixing_yogurt_strawberry',\n",
    " 'kangshifu_green_tea',\n",
    " 'tongyi_milktea',\n",
    " 'kangshifu_beefNoodle',\n",
    " 'wanglaoji',\n",
    " 'sprite_200',\n",
    " 'pocky_coco',\n",
    " 'lixing_yogurt_kiwi',\n",
    " 'jiaduobao_550ml',\n",
    " 'kangshifu_peach_drink']\n",
    "\n",
    "create_data_yaml(**{\n",
    "    'dest_file': data_yaml,\n",
    "    'train_img_path': train_txt, \n",
    "    'val_img_path': val_txt,\n",
    "    'cls_names': cnames,\n",
    "}, exist_ok=True)\n",
    "\n",
    "load_data_yaml(data_yaml)"
   ]
  },
  {
   "cell_type": "code",
   "execution_count": 15,
   "metadata": {},
   "outputs": [],
   "source": [
    "# %load {data_yaml}"
   ]
  },
  {
   "cell_type": "markdown",
   "metadata": {},
   "source": [
    "# hyp yaml"
   ]
  },
  {
   "cell_type": "code",
   "execution_count": 16,
   "metadata": {},
   "outputs": [
    {
     "name": "stdout",
     "output_type": "stream",
     "text": [
      "Overwriting /home/cheeyung/new_yolov5/yolov5/data/test_sampled_coco2017/hyp_custom.yaml\n"
     ]
    }
   ],
   "source": [
    "%%writefile {hyp_custom_yaml}\n",
    "# YOLOv5 🚀 by Ultralytics, GPL-3.0 license\n",
    "# Hyperparameters for COCO training from scratch\n",
    "# python train.py --batch 40 --cfg yolov5m.yaml --weights '' --data coco.yaml --img 640 --epochs 300\n",
    "# See tutorials for hyperparameter evolution https://github.com/ultralytics/yolov5#tutorials\n",
    "\n",
    "lr0: 0.01  # initial learning rate (SGD=1E-2, Adam=1E-3)\n",
    "lrf: 0.1  # final OneCycleLR learning rate (lr0 * lrf)\n",
    "momentum: 0.937  # SGD momentum/Adam beta1\n",
    "weight_decay: 0.0005  # optimizer weight decay 5e-4\n",
    "warmup_epochs: 3.0  # warmup epochs (fractions ok)\n",
    "warmup_momentum: 0.8  # warmup initial momentum\n",
    "warmup_bias_lr: 0.1  # warmup initial bias lr\n",
    "box: 0.05  # box loss gain\n",
    "cls: 0.5  # cls loss gain\n",
    "cls_pw: 1.0  # cls BCELoss positive_weight\n",
    "obj: 1.0  # obj loss gain (scale with pixels)\n",
    "obj_pw: 1.0  # obj BCELoss positive_weight\n",
    "iou_t: 0.20  # IoU training threshold\n",
    "anchor_t: 4.0  # anchor-multiple threshold\n",
    "# anchors: 3  # anchors per output layer (0 to ignore)\n",
    "fl_gamma: 0.0  # focal loss gamma (efficientDet default gamma=1.5)\n",
    "hsv_h: 0.015  # image HSV-Hue augmentation (fraction)\n",
    "hsv_s: 0.05  # image HSV-Saturation augmentation (fraction)\n",
    "hsv_v: 0.05  # image HSV-Value augmentation (fraction)\n",
    "degrees: 0.0  # image rotation (+/- deg)\n",
    "translate: 0.1  # image translation (+/- fraction)\n",
    "scale: 0.5  # image scale (+/- gain)\n",
    "shear: 0.0  # image shear (+/- deg)\n",
    "perspective: 0.0  # image perspective (+/- fraction), range 0-0.001\n",
    "flipud: 0.0  # image flip up-down (probability)\n",
    "fliplr: 0.3  # image flip left-right (probability)\n",
    "mosaic: 0  # image mosaic (probability)\n",
    "mixup: 0.0  # image mixup (probability)\n",
    "copy_paste: 0.0  # segment copy-paste (probability)\n"
   ]
  }
 ],
 "metadata": {
  "interpreter": {
   "hash": "04ddf35340c1ce64f127aae7421c8cf99ef6dbb93c27b1d0248a5253fd4efee9"
  },
  "kernelspec": {
   "display_name": "Python 3.8.0 64-bit ('yolov5': conda)",
   "name": "python3"
  },
  "language_info": {
   "codemirror_mode": {
    "name": "ipython",
    "version": 3
   },
   "file_extension": ".py",
   "mimetype": "text/x-python",
   "name": "python",
   "nbconvert_exporter": "python",
   "pygments_lexer": "ipython3",
   "version": "3.8.0"
  }
 },
 "nbformat": 4,
 "nbformat_minor": 2
}
